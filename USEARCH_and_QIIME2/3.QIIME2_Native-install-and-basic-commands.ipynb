{
 "cells": [
  {
   "cell_type": "markdown",
   "metadata": {},
   "source": [
    "![VWBPRGbanner.jpeg](VWBPRGbanner.jpeg)"
   ]
  },
  {
   "cell_type": "markdown",
   "metadata": {},
   "source": [
    "# 16S amplicon NGS"
   ]
  },
  {
   "cell_type": "markdown",
   "metadata": {},
   "source": [
    "# Native installation and basic commands"
   ]
  },
  {
   "cell_type": "markdown",
   "metadata": {},
   "source": [
    "![QIIME2](https://qiime2.org/assets/img/qiime2.svg)"
   ]
  },
  {
   "cell_type": "markdown",
   "metadata": {},
   "source": [
    "[QIIME2 homepage](https://qiime2.org/)\n",
    "\n",
    "[QIIME2 native installation](https://docs.qiime2.org/2017.12/install/native/)"
   ]
  },
  {
   "cell_type": "markdown",
   "metadata": {},
   "source": [
    "QIIME2 can now be installed natively on a MacOS environment or Linux environment (if using windows you will need to use virtual box).\n",
    "\n",
    "This workbook will assume you have a MacOS environment.\n",
    "\n",
    "*QIIME2 is rapidly evolving - while we will endeavour to ensure this workbook is up to date we recommend you consult the offical QIIME2 documenation and related forums for any issues*"
   ]
  },
  {
   "cell_type": "markdown",
   "metadata": {},
   "source": [
    "****"
   ]
  },
  {
   "cell_type": "markdown",
   "metadata": {},
   "source": [
    "## Native installation"
   ]
  },
  {
   "cell_type": "markdown",
   "metadata": {},
   "source": [
    "##### Step One - Conda environment"
   ]
  },
  {
   "cell_type": "markdown",
   "metadata": {},
   "source": [
    "You need to have a `conda` environment for QIIME2 to run. This can be in the form of `Miniconda` (as is recommended by QIIME developers. However, can also be in the form of `conda`, or if you are using this notebook in an `Anaconda` environment you have already installed conda **(YAY!)**. Assuming you are working within an Anaconda environment we will now proceed with the assumption you have a conda environment installed."
   ]
  },
  {
   "cell_type": "markdown",
   "metadata": {},
   "source": [
    "Open a new Bash terminal and execute the following\n",
    "\n",
    "This will update your conda environment and also install the wget plug to be able to easily install packages"
   ]
  },
  {
   "cell_type": "markdown",
   "metadata": {},
   "source": [
    "``` bash\n",
    "conda update conda\n",
    "conda install wget\n",
    "```"
   ]
  },
  {
   "cell_type": "markdown",
   "metadata": {},
   "source": [
    "##### Step Two - Install QIIME2"
   ]
  },
  {
   "cell_type": "markdown",
   "metadata": {},
   "source": [
    "You will then need to install QIIME2. The developers recommend you do this in a new environment. \n",
    "\n",
    "From the Bash window execute the following"
   ]
  },
  {
   "cell_type": "markdown",
   "metadata": {},
   "source": [
    "```bash\n",
    "wget https://data.qiime2.org/distro/core/qiime2-2017.12-py35-osx-conda.yml\n",
    "conda env create -n qiime2-2017.12 --file qiime2-2017.12-py35-osx-conda.yml\n",
    "\n",
    "# OPTIONAL CLEANUP\n",
    "rm qiime2-2017.12-py35-osx-conda.yml\n",
    "```"
   ]
  },
  {
   "cell_type": "markdown",
   "metadata": {},
   "source": [
    "##### Step three - Activate QIIME2 environment"
   ]
  },
  {
   "cell_type": "markdown",
   "metadata": {},
   "source": [
    "Activate the QIIME2 environment. This needs to be done everytime you want to \"open\" QIIME2"
   ]
  },
  {
   "cell_type": "markdown",
   "metadata": {},
   "source": [
    "```bash\n",
    "source activate qiime2-2017.12\n",
    "```"
   ]
  },
  {
   "cell_type": "markdown",
   "metadata": {},
   "source": [
    "To check that it has been installed correctly"
   ]
  },
  {
   "cell_type": "markdown",
   "metadata": {},
   "source": [
    "```bash\n",
    "qiime --help\n",
    "```"
   ]
  },
  {
   "cell_type": "markdown",
   "metadata": {},
   "source": [
    "***"
   ]
  },
  {
   "cell_type": "markdown",
   "metadata": {},
   "source": [
    "## Basic usage"
   ]
  },
  {
   "cell_type": "markdown",
   "metadata": {},
   "source": [
    "Run `qiime` to see a list of available subcommands:"
   ]
  },
  {
   "cell_type": "markdown",
   "metadata": {},
   "source": [
    "```bash\n",
    "qiime\n",
    "```"
   ]
  },
  {
   "cell_type": "markdown",
   "metadata": {},
   "source": [
    "There will be several subcommands listed, including plugin commands (e.g. `feature-table`, `diversity`) and built-in commands (e.g. `info`, `tools`).\n",
    "\n",
    "You can discover what plugins you currently have installed, as well as other information about your QIIME deployment, by running `qiime info`:\n",
    "qiime"
   ]
  },
  {
   "cell_type": "markdown",
   "metadata": {},
   "source": [
    "```bash\n",
    "qiime info\n",
    "```"
   ]
  },
  {
   "cell_type": "markdown",
   "metadata": {},
   "source": [
    "Supply `--help` to any command to display information about the command, including any subcommands, options, and arguments the command defines. For example, to learn more about the `feature-table` plugin command, run:"
   ]
  },
  {
   "cell_type": "markdown",
   "metadata": {},
   "source": [
    "```bash\n",
    "qiime feature-table --help\n",
    "```"
   ]
  },
  {
   "cell_type": "markdown",
   "metadata": {},
   "source": [
    "This will list the actions (subcommands) made available by the feature-table plugin, as well as information about the plugin itself (e.g. citation, website, user support).\n",
    "\n",
    "Try learning about other commands using `--help`. \n",
    "For example, what actions are available in the built-in `tools` command?"
   ]
  },
  {
   "cell_type": "markdown",
   "metadata": {},
   "source": [
    "### Enable command-line tab completion"
   ]
  },
  {
   "cell_type": "markdown",
   "metadata": {},
   "source": [
    "If you are using Bash or Zsh as your shell, you can enable tab completion, which substantially improves the usability of the QIIME 2 command-line interface (CLI). When tab completion is enabled, pressing the tab key will attempt to complete the command or option you have typed, or provide you with a list of available commands or options based on what you have typed so far. This reduces the amount of typing you have to do and makes commands and options more easily discoverable without passing `--help` to every command you’re wanting to run."
   ]
  },
  {
   "cell_type": "markdown",
   "metadata": {},
   "source": [
    "**For a Bash environment run the following:**\n",
    "```bash\n",
    "source tab-qiime\n",
    "```"
   ]
  },
  {
   "cell_type": "markdown",
   "metadata": {},
   "source": [
    "**Verify tab completion**\n",
    "\n",
    "To test that tab completion is working, try typing in the following partial command, and without actually running the command, press the tab key (you may need to press it a couple of times). If tab completion is working, the command should auto-complete to `qiime info`.\n",
    "\n",
    "```bash\n",
    "qiime i\n",
    "```"
   ]
  },
  {
   "cell_type": "markdown",
   "metadata": {},
   "source": [
    "### Viewing `qzv` file formats"
   ]
  },
  {
   "cell_type": "markdown",
   "metadata": {},
   "source": [
    "Files in the format `.qzv` can be viewed from within the terminal, where a webpage will open with the figure/table.\n",
    "\n",
    "```bash\n",
    "qiime tools view table.qzv\n",
    "```"
   ]
  },
  {
   "cell_type": "markdown",
   "metadata": {},
   "source": [
    "<div class=\"alert alert-block alert-info\"> Issues viewing your qzv files? <br></br>\n",
    "\n",
    "If you find you are having issues visualizing the qzv files from your terminal. You can visit the [QIIME view](https://view.qiime2.org/) webpage and drag & drop your qzv files to view.</div>"
   ]
  },
  {
   "cell_type": "code",
   "execution_count": null,
   "metadata": {
    "collapsed": true
   },
   "outputs": [],
   "source": []
  }
 ],
 "metadata": {
  "kernelspec": {
   "display_name": "Python 3",
   "language": "python",
   "name": "python3"
  },
  "language_info": {
   "codemirror_mode": {
    "name": "ipython",
    "version": 3
   },
   "file_extension": ".py",
   "mimetype": "text/x-python",
   "name": "python",
   "nbconvert_exporter": "python",
   "pygments_lexer": "ipython3",
   "version": "3.6.3"
  }
 },
 "nbformat": 4,
 "nbformat_minor": 2
}
