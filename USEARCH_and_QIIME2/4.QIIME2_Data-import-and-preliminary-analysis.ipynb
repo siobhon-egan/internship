{
 "cells": [
  {
   "attachments": {},
   "cell_type": "markdown",
   "metadata": {},
   "source": [
    "![VWBPRGbanner.jpeg](VWBPRGbanner.jpeg)"
   ]
  },
  {
   "cell_type": "markdown",
   "metadata": {},
   "source": [
    "# 16S amplicon NGS"
   ]
  },
  {
   "cell_type": "markdown",
   "metadata": {},
   "source": [
    "# Data Import and Preliminary analysis"
   ]
  },
  {
   "attachments": {
    "download.png": {
     "image/png": "[encoded data removed]"
    }
   },
   "cell_type": "markdown",
   "metadata": {},
   "source": [
    "![download.png](attachment:download.png)"
   ]
  },
  {
   "cell_type": "markdown",
   "metadata": {},
   "source": [
    "This workflow follows documentation from QIIME2 documents on [data import](https://docs.qiime2.org/2017.12/tutorials/importing/). \n",
    "<br>\n",
    "<br>\n",
    "***16S amplicon NGS analysis***\n",
    "\n",
    "This notebook continues on from the notebook on native installation of QIIME2 and the USEARCH pipeline."
   ]
  },
  {
   "cell_type": "markdown",
   "metadata": {},
   "source": [
    "**Assumptions**\n",
    "- Using a macOS environment\n",
    "- Installed QIIME2 following their [native installation guide](https://docs.qiime2.org/2017.12/install/native/)\n",
    "- Worked through the USEARCH Pipeline as outlined <font color=green>[INSERT LINK HERE]</font>"
   ]
  },
  {
   "cell_type": "markdown",
   "metadata": {},
   "source": [
    "**What you will need**\n",
    "- **`biom`** file: this is generated from the [UNOISE algothrim](https://www.drive5.com/usearch/manual/unoise_pipeline.html) in the USEARCH pipeline. At present the UNOISE pipeline  generates a v1 format, however it is worth checking this is still the case on the USEARCH webpage before proceding further. See here for more information on the [biom format](http://biom-format.org/documentation/format_versions/biom-1.0.html).\n",
    "- **`sequences`** file: Unaligned sequence data is imported from a fasta formatted file containing DNA sequences that are not aligned (i.e., do not contain - or . characters). The sequences may contain degenerate nucleotide characters, such as `N`, but some QIIME2 actions may not support these characters. See the [scikit-bio fasta format description](http://scikit-bio.org/docs/latest/generated/skbio.io.format.fasta.html#fasta-format) for more information about the fasta format."
   ]
  },
  {
   "cell_type": "markdown",
   "metadata": {},
   "source": [
    "----"
   ]
  },
  {
   "cell_type": "markdown",
   "metadata": {
    "collapsed": true
   },
   "source": [
    "## 1. BIOMV1.0.0 and Feature Table"
   ]
  },
  {
   "cell_type": "markdown",
   "metadata": {},
   "source": [
    "### (a) Import BIOM file"
   ]
  },
  {
   "cell_type": "markdown",
   "metadata": {},
   "source": [
    "    qiime tools import \\\n",
    "    --input-path unoise_otu_biom.biom \\\n",
    "    --type 'FeatureTable[Frequency]' \\\n",
    "    --source-format BIOMV100Format \\\n",
    "    --output-path feature-table-1.qza"
   ]
  },
  {
   "cell_type": "markdown",
   "metadata": {},
   "source": [
    " <div class=\"alert alert-block alert-info\">The `input-path` will dependend on where your `biom` file is located and what it is called. In this example the `biom` file is called `unoise_otu_biom` and is located in the current directory `/7.unoise_all`</div>"
   ]
  },
  {
   "cell_type": "markdown",
   "metadata": {},
   "source": [
    "**Output artifacts:**\n",
    "\n",
    "    feature-table-1.qza"
   ]
  },
  {
   "cell_type": "markdown",
   "metadata": {},
   "source": [
    "<div class=\"alert alert-block alert-danger\">Current issues with the UNOISE3 output of the biom file. You will need to do the following if the above instructions did not work</div>"
   ]
  },
  {
   "cell_type": "markdown",
   "metadata": {},
   "source": [
    "This needs to be in the qiime environment, unless you have the biom package installed locally.  Navigate to the final unoise file `/7.unoise_all` (it should have the file `unoise_otu_tab.txt`) and execute the following:"
   ]
  },
  {
   "cell_type": "markdown",
   "metadata": {},
   "source": [
    "    biom convert -i unoise_otu_tab.txt -o table.from_txt_json.biom --table-type=\"OTU table\" --to-json"
   ]
  },
  {
   "cell_type": "markdown",
   "metadata": {},
   "source": [
    "Now in the QIIME environment, navigate to the relevent excute the following:"
   ]
  },
  {
   "cell_type": "markdown",
   "metadata": {},
   "source": [
    "    qiime tools import \\\n",
    "    --input-path table.from_txt_json.biom \\\n",
    "    --type 'FeatureTable[Frequency]' \\\n",
    "    --source-format BIOMV100Format \\\n",
    "    --output-path feature-table-1.qza"
   ]
  },
  {
   "cell_type": "markdown",
   "metadata": {},
   "source": [
    "### (b) Import per-feature unaligned sequence data (i.e., representative sequences)"
   ]
  },
  {
   "cell_type": "markdown",
   "metadata": {},
   "source": [
    "    qiime tools import \\\n",
    "    --input-path unoise_zotus_relabelled.fasta \\\n",
    "    --output-path sequences.qza \\\n",
    "    --type 'FeatureData[Sequence]'"
   ]
  },
  {
   "cell_type": "markdown",
   "metadata": {},
   "source": [
    " <div class=\"alert alert-block alert-info\">The `input-path` will dependend on where your `sequences` file is located and what it is called. In this example the `sequences` file is called `sequences`, with the file extension `.fna` and is located in the current directory `/7.unoise_all`</div>"
   ]
  },
  {
   "cell_type": "markdown",
   "metadata": {},
   "source": [
    "**Output artifacts:**\n",
    "\n",
    "    sequences.qza"
   ]
  },
  {
   "cell_type": "markdown",
   "metadata": {},
   "source": [
    "<div class=\"alert alert-block alert-info\">Note the file format for the `input path` is written as `.fna`. This format is the `fasta` format - and is synonymous with the file formats `.fa` and `.fasta`.</div>\n",
    "\n",
    "<div class=\"alert alert-block alert-danger\"> but **NOT** the same as `.fq` or `.fastq`. </div>"
   ]
  },
  {
   "cell_type": "markdown",
   "metadata": {},
   "source": [
    "***"
   ]
  },
  {
   "cell_type": "markdown",
   "metadata": {},
   "source": [
    "## 2. Create Feature Table and Feature Data Summaries"
   ]
  },
  {
   "cell_type": "markdown",
   "metadata": {},
   "source": [
    "Once the BIOM file and sequences have been import then the feature table and data summaries can be generated"
   ]
  },
  {
   "cell_type": "markdown",
   "metadata": {},
   "source": [
    "**Requirements**\n",
    "- Feature table - called `feature-table-1.qza`\n",
    "- Sequences called `sequences.qza`\n",
    "- Metadata called `metadata.tsv` - it is essential that the metadata is in the correct format, see below for more info"
   ]
  },
  {
   "cell_type": "markdown",
   "metadata": {},
   "source": [
    "### Create Feature Table Summary"
   ]
  },
  {
   "cell_type": "markdown",
   "metadata": {},
   "source": [
    "    qiime feature-table summarize \n",
    "    --i-table feature-table-1.qza \n",
    "    --o-visualization table.qzv \n",
    "    --m-sample-metadata-file metadata.tsv "
   ]
  },
  {
   "cell_type": "markdown",
   "metadata": {},
   "source": [
    "**Output artifacts:**\n",
    "\n",
    "    table.qzv"
   ]
  },
  {
   "cell_type": "markdown",
   "metadata": {},
   "source": [
    "<div class=\"alert alert-block alert-info\"> <font color=red>**Error messages while creating Feature Table?**</font>\n",
    "<br>\n",
    "If you are having trouble with the above code it is most likely there is an issue with your metadata and/or your sequences matching your metadata. To check this is the case you can run the above script without the last line adding in your metadata </div>"
   ]
  },
  {
   "cell_type": "markdown",
   "metadata": {},
   "source": [
    "    qiime feature-table summarize \n",
    "    --i-table feature-table-1.qza \n",
    "    --o-visualization table.qzv "
   ]
  },
  {
   "cell_type": "markdown",
   "metadata": {},
   "source": [
    "**Output visualization:**\n",
    "\n",
    "    table.qzv"
   ]
  },
  {
   "cell_type": "markdown",
   "metadata": {},
   "source": [
    "Go to the second tab `interactive sample detail` and check the name of the samples matches what is in your metadata.\n",
    "If you are still having issues see QIIME documenation of metadata available [here](https://docs.qiime2.org/2017.12/tutorials/metadata/)"
   ]
  },
  {
   "cell_type": "markdown",
   "metadata": {},
   "source": [
    "### Create Feature Table Sequences"
   ]
  },
  {
   "cell_type": "markdown",
   "metadata": {},
   "source": [
    "    qiime feature-table tabulate-seqs \\\n",
    "    --i-data sequences.qza \\\n",
    "    --o-visualization sequences.qzv"
   ]
  },
  {
   "cell_type": "markdown",
   "metadata": {},
   "source": [
    "**Output visualization:**\n",
    "\n",
    "    sequences.qzv"
   ]
  },
  {
   "cell_type": "markdown",
   "metadata": {},
   "source": [
    "****"
   ]
  }
 ],
 "metadata": {
  "kernelspec": {
   "display_name": "Python 3",
   "language": "python",
   "name": "python3"
  },
  "language_info": {
   "codemirror_mode": {
    "name": "ipython",
    "version": 3
   },
   "file_extension": ".py",
   "mimetype": "text/x-python",
   "name": "python",
   "nbconvert_exporter": "python",
   "pygments_lexer": "ipython3",
   "version": "3.6.3"
  }
 },
 "nbformat": 4,
 "nbformat_minor": 2
}
