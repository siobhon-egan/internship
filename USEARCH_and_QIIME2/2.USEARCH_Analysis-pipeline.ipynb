{
 "cells": [
  {
   "cell_type": "markdown",
   "metadata": {},
   "source": [
    "![VWBPRGbanner.jpeg](VWBPRGbanner.jpeg)"
   ]
  },
  {
   "cell_type": "markdown",
   "metadata": {},
   "source": [
    "# 16S amplicon NGS"
   ]
  },
  {
   "cell_type": "markdown",
   "metadata": {},
   "source": [
    "# USEARCH Pipeline"
   ]
  },
  {
   "cell_type": "markdown",
   "metadata": {},
   "source": [
    "***"
   ]
  },
  {
   "cell_type": "markdown",
   "metadata": {},
   "source": [
    "**Input**\n",
    "\n",
    "Raw `fastq` files from illumina NGS platforms.\n",
    "\n",
    "**Output**\n",
    "\n",
    "Complied OTU table (taxonomy not assigned) and final OTU sequences in `fasta` format."
   ]
  },
  {
   "cell_type": "markdown",
   "metadata": {},
   "source": [
    "**Assumptions**\n",
    "\n",
    "- Working within MacOS environment - there are slight differences when working within a linux environment. As Pawsey system (Nimbus) works within a linux environment this pipeline will include the variation required to work within a linux environment also, however take note it is primarily written for MacOS. Please provide feedback if functions are not working within a linux environment.\n",
    "- Downloaded USEARCH. This pipeline required usearch 9.2 and usearch 10. In most cases the 34-bit files are okay, however if undertaking analysis of large datasets you will need to purchase the 64-bit. The Cryptick lab has the 64-bit versions of usearch8, 9.2 and 10 - you will need to use the iMac to access these. Unfortunately we do not have the 64-bit version on a linux environment and as such cannot run it on the Nimbus cloud. You will have to weight up your options between running the analysis on Nimbus vs iMac. You might consider doing the first steps on the Nimbus cloud and the final steps on the iMac."
   ]
  },
  {
   "cell_type": "markdown",
   "metadata": {},
   "source": [
    "**Data type**\n",
    "\n",
    "This analysis is for paired-end reads"
   ]
  },
  {
   "cell_type": "markdown",
   "metadata": {},
   "source": [
    "**Parameters**\n",
    "\n",
    "- **Merge pairs overlap** - This inital step simply merged the R1 and R2 files. Setting this parameter too high can mean it acts as a 'quality control' step which is not what it is intended for. Try this step with a few reads to ensure that majority of reads are passing through\n",
    "    - Command: usearch9.2 -fastq_mergepairs\n",
    "    - Default: 50 bp\n"
   ]
  },
  {
   "cell_type": "markdown",
   "metadata": {},
   "source": [
    "1. Unzip raw fastq.gz files -> fastq\n",
    "2. Merged paired illumina sequences"
   ]
  },
  {
   "cell_type": "markdown",
   "metadata": {},
   "source": [
    "***"
   ]
  },
  {
   "cell_type": "markdown",
   "metadata": {},
   "source": [
    "## Fastq info"
   ]
  },
  {
   "cell_type": "markdown",
   "metadata": {},
   "source": [
    "[fastq_info command](https://www.drive5.com/usearch/manual/cmd_fastx_info.html)\n",
    "\n",
    "This command is available in both usearch9.2 and usearch10."
   ]
  },
  {
   "cell_type": "code",
   "execution_count": null,
   "metadata": {
    "collapsed": true
   },
   "outputs": [],
   "source": [
    "raw_data=\"raw_data\"\n",
    "read_summary=\"1.read_summary\"\n",
    "usearch=\"usearch10\"\n",
    "\n",
    "\n",
    "mkdir $read_summary\n",
    "\n",
    " for fq in $raw_seqs/*R1*.fastq\n",
    " do\n",
    "  $usearch -fastx_info $fq -output $read_summary/1a_fwd_fastq_info.txt\n",
    " done\n",
    "\n",
    " for fq in $raw_seqs/*R2*.fastq\n",
    " do\n",
    "  $usearch -fastx_info $fq -output $read_summary/1b_rev_fastq_info.txt\n",
    " done"
   ]
  },
  {
   "cell_type": "markdown",
   "metadata": {},
   "source": [
    "***"
   ]
  },
  {
   "cell_type": "markdown",
   "metadata": {},
   "source": [
    "## Merge pairs"
   ]
  },
  {
   "cell_type": "markdown",
   "metadata": {},
   "source": [
    "The below code will work where a subset of raw fastq files are in the directory `raw_data_subset`. It will out put the merged files in the directory `merging_test`. In the terminal it will display the % merged. "
   ]
  },
  {
   "cell_type": "code",
   "execution_count": null,
   "metadata": {
    "collapsed": true
   },
   "outputs": [],
   "source": [
    "#!/bin/bash\n",
    "\n",
    "# This script works with usearch9.2 and usearch10\n",
    "# This peice of code works on a subset of raw fastq reads to test for min merge overlap - default = 50 bp\n",
    "\n",
    "mkdir merging_test\n",
    "\n",
    "# Step1: merge data with usearch10 -fastq_mergepairs\n",
    "\n",
    "for file1 in raw_data_subset/*R1_001.fastq\n",
    "    do\n",
    "\n",
    "        echo \"\"\n",
    "        echo ~~~~~~~~~~~~~~~~~~~~~~~~~~~~~~~~~~~~~~~~~~~~~~~~~~~~~~~~~~~~~~~~~~~~~~~~~~~\n",
    "        echo Merging paired reads\n",
    "        echo forward reads are:\n",
    "        echo $(basename ${file1})\n",
    "        echo reverse reads are:\n",
    "        echo $(basename ${file1} R1_001.fastq)R2_001.fastq\n",
    "\n",
    "    usearch10 -fastq_mergepairs ${file1} -reverse \"raw_data_subset/$(basename -s R1_001.fastq ${file1})R2_001.fastq\" -fastqout \"merging_test/$(basename \"$file1\")\" -fastq_minovlen 50 -report merging_test/report.txt\n",
    "done\n",
    "\n",
    "# Step 2: Remove \"_L001_R1_001\" from filenames\n",
    "\n",
    "for file2 in merging_test/*.fastq\n",
    "    do\n",
    "\n",
    "        rename=\"$(basename ${file2} _L001_R1_001.fastq).fastq\"\n",
    "\n",
    "        mv ${file2} merging_test/${rename}\n",
    "done"
   ]
  },
  {
   "cell_type": "markdown",
   "metadata": {},
   "source": [
    "_**Note**_\n",
    "\n",
    "There are a number of other commands that you may find useful at this step available on the USEARCH documenation page [here](https://www.drive5.com/usearch/manual/merge_options.html). \n",
    "After trials with tick NGS data I have found that in most cases altering these parameters make little to no difference to the outcome of the sequences and hence they are obmitted from this pipeline. Again it is important to remember the purpose of this line of code, it is simply to merge the forward and reverse sequences _not_ to act as a quality control step."
   ]
  },
  {
   "cell_type": "markdown",
   "metadata": {},
   "source": [
    "***"
   ]
  },
  {
   "cell_type": "markdown",
   "metadata": {},
   "source": [
    "## Quality control and removing dimer sequences"
   ]
  },
  {
   "cell_type": "code",
   "execution_count": null,
   "metadata": {
    "collapsed": true
   },
   "outputs": [],
   "source": [
    "#!/bin/bash\n",
    "\n",
    "# This script works with usearch9.2 and usearch10\n",
    "# fastq_filter provides a quiality filter and max ee rate \n",
    "\n",
    "mkdir quality_filered_test\n",
    "\n",
    "for file3 in merging_test/*.fastq\n",
    "    do\n",
    "        echo \"\"\n",
    "        echo ~~~~~~~~~~~~~~~~~~~~~~~~~~~~~~~~~~~~~~~~~~~~~~~~~~~~~~~~~~~~~~~~~~~~~~~~~~~\n",
    "        echo Quality control and removing dimer seqs\n",
    "        echo input is:\n",
    "        echo ${file3}\n",
    "\n",
    "    usearch10 -fastq_filter ${file3} -fastaout \"quality_filered_test/$(basename \"$file3\" .fastq).fasta\" -fastq_maxee_rate 0.01 -fastq_minlen 150\n",
    "done\n"
   ]
  },
  {
   "cell_type": "markdown",
   "metadata": {},
   "source": [
    "## Trim primers"
   ]
  },
  {
   "cell_type": "markdown",
   "metadata": {},
   "source": [
    "usearch8 [search_pcr command](https://www.drive5.com/usearch/manual8.1/cmd_search_pcr.html)"
   ]
  },
  {
   "cell_type": "code",
   "execution_count": null,
   "metadata": {
    "collapsed": true
   },
   "outputs": [],
   "source": [
    "#!/bin/bash\n",
    "\n",
    "# Enter FWD primer sequence 5'-3' (degenerate bases OK)\n",
    "fwd_primer=\"AGAGTTTGATCCTGGCTYAG\"\n",
    "# Enter REV primer sequence 5'-3' (degenerate bases OK)\n",
    "rev_primer=\"TGCTGCCTCCCGTAGGAGT\"\n",
    "\n",
    "echo %%%%%%%%%%%%%%%%%%%%%%%%%%%%%%%%%%%%%%%%%%%%%%%%%%%%%%%%%%%%%%%%%%%%%%%%%%%%\n",
    "echo Triming primers and distal bases\n",
    "echo %%%%%%%%%%%%%%%%%%%%%%%%%%%%%%%%%%%%%%%%%%%%%%%%%%%%%%%%%%%%%%%%%%%%%%%%%%%%\n",
    "echo \"\"\n",
    "\n",
    "# At the moment this usearch command can only take .fasta as input so can only be done\n",
    "# after QF\n",
    "\n",
    "# Creating working directories\n",
    "\n",
    "mkdir trimmed_data_test\n",
    "mkdir seqs_w_fwd_primer\n",
    "mkdir seqs_wo_fwd_primer\n",
    "mkdir seqs_w_fwd_and_rev_primer\n",
    "mkdir seqs_w_fwd_butnot_rev_primer\n",
    "\n",
    "# Creating FWD primer db\n",
    "\n",
    "echo \">fwd_primer\" > fwd_primer_db.fasta\n",
    "echo ${fwd_primer} >> fwd_primer_db.fasta\n",
    "\n",
    "# Creating REV primer db\n",
    "\n",
    "echo \">rev_primer\" > rev_primer_db.fasta\n",
    "echo ${rev_primer} >> rev_primer_db.fasta\n",
    "\n",
    "# Creating FWD and REV primer db\n",
    "\n",
    "echo \">fwd_primer\" > both_primers_db.fasta\n",
    "echo ${fwd_primer} >> both_primers_db.fasta\n",
    "echo \">rev_primer\" >> both_primers_db.fasta\n",
    "echo ${rev_primer} >> both_primers_db.fasta\n",
    "\n",
    "#*****************************************************************************************\n",
    "# Step 1: Finding seqs with FWD primer\n",
    "\n",
    "for file4 in quality_filered_test/*.fasta\n",
    "    do\n",
    "\n",
    "        echo \"\"\n",
    "        echo ~~~~~~~~~~~~~~~~~~~~~~~~~~~~~~~~~~~~~~~~~~~~~~~~~~~~~~~~~~~~~~~~~~~~~~~~~~~\n",
    "        echo Trimming primers step 1: finding seqs with FWD primer\n",
    "        echo input is:\n",
    "        echo ${file4}\n",
    "\n",
    "    usearch9.2 -search_oligodb ${file4} -db fwd_primer_db.fasta -strand both -matched \"seqs_w_fwd_primer/$(basename ${file4})\" -notmatched \"seqs_wo_fwd_primer/$(basename ${file4})\"\n",
    "done\n",
    "#*****************************************************************************************\n",
    "# Step 2: Finding seqs with FWD and REV primers\n",
    "\n",
    "for file5 in seqs_w_fwd_primer/*.fasta\n",
    "    do\n",
    "\n",
    "        echo \"\"\n",
    "        echo ~~~~~~~~~~~~~~~~~~~~~~~~~~~~~~~~~~~~~~~~~~~~~~~~~~~~~~~~~~~~~~~~~~~~~~~~~~~\n",
    "        echo Trimming primers step 2: finding seqs with FWD and REV primer\n",
    "        echo input is:\n",
    "        echo ${file5}\n",
    "\n",
    "    usearch9.2 -search_oligodb ${file5} -db rev_primer_db.fasta -strand both -matched \"seqs_w_fwd_and_rev_primer/$(basename ${file5})\" -notmatched \"seqs_w_fwd_butnot_rev_primer/$(basename ${file5})\"\n",
    "done\n",
    "#*****************************************************************************************\n",
    "# Step 3: Trimming FWD and REV primers\n",
    "\n",
    "for file6 in seqs_w_fwd_and_rev_primer/*.fasta\n",
    "    do\n",
    "\n",
    "        echo \"\"\n",
    "        echo ~~~~~~~~~~~~~~~~~~~~~~~~~~~~~~~~~~~~~~~~~~~~~~~~~~~~~~~~~~~~~~~~~~~~~~~~~~~\n",
    "        echo Trimming primers step 3: removing FWD and REV primers\n",
    "        echo input is:\n",
    "        echo ${file6}\n",
    "\n",
    "    usearch8 -search_pcr ${file6} -db both_primers_db.fasta -strand both -maxdiffs ${pcr_missmatches} -pcr_strip_primers -ampout \"trimmed_data_test/$(basename ${file6} .fasta).fasta\"\n",
    "done\n"
   ]
  }
 ],
 "metadata": {
  "kernelspec": {
   "display_name": "Bash",
   "language": "bash",
   "name": "bash"
  },
  "language_info": {
   "codemirror_mode": "shell",
   "file_extension": ".sh",
   "mimetype": "text/x-sh",
   "name": "bash"
  }
 },
 "nbformat": 4,
 "nbformat_minor": 2
}
