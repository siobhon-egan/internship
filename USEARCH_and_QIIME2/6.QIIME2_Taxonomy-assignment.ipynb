{
 "cells": [
  {
   "cell_type": "markdown",
   "metadata": {},
   "source": [
    "![VWBPRGbanner.jpeg](VWBPRGbanner.jpeg)"
   ]
  },
  {
   "cell_type": "markdown",
   "metadata": {},
   "source": [
    "# 16S amplicon NGS"
   ]
  },
  {
   "cell_type": "markdown",
   "metadata": {},
   "source": [
    "# Taxonomy assignment"
   ]
  },
  {
   "cell_type": "markdown",
   "metadata": {},
   "source": [
    "![QIIME2](https://qiime2.org/assets/img/qiime2.svg)"
   ]
  },
  {
   "cell_type": "markdown",
   "metadata": {},
   "source": [
    "This workflow follows documentation from QIIME2 documents on [tutorials](https://docs.qiime2.org/2017.12/tutorials/) - mainly from the moving pictures tutorial. \n",
    "<br>\n",
    "<br>\n",
    "***16S amplicon NGS analysis***\n",
    "\n",
    "This notebook continues on from the notebook on data import & preliminary analysis, and native installation of QIIME2 following the USEARCH pipeline."
   ]
  },
  {
   "cell_type": "markdown",
   "metadata": {},
   "source": [
    "An analysis of both the [SILVA](https://www.arb-silva.de/) and [Greengenes databases](http://greengenes.lbl.gov/Download/) (current Jan 2018) found that for tick-microbiome analysis Greengenes allowed for finer resolution of taxonomy and thus is recommended and used here. Both GreenGenes and Silva along with other curated datasets have comparable results overall and it is suggested that for new analysis a comparison is made to determine thebest datasets for your use. Other taxonomy classifer methods can be used such as vsearch and BLAST+, see QIIME2 `feature-classifier` documenation for more information [here](https://docs.qiime2.org/2017.12/plugins/available/feature-classifier/)"
   ]
  },
  {
   "cell_type": "markdown",
   "metadata": {},
   "source": [
    "# Training Feature Classifier"
   ]
  },
  {
   "cell_type": "markdown",
   "metadata": {},
   "source": [
    "This workbook will follow instructions detailed by QIIME2 - full  documentation available [here](https://docs.qiime2.org/2017.12/tutorials/feature-classifier/)"
   ]
  },
  {
   "cell_type": "markdown",
   "metadata": {},
   "source": [
    "<div class=\"alert alert-block alert-info\">\n",
    "Before doing this tutorial it is worth checking is a classifier has already been made for your target region. Currently there are both Green genes and Silva classifiers for primer sets 27F/338Y and 515/806 saved on the CrypTick lab iMac and google drive. \n",
    "<br><br></br>\n",
    "It is recommended you try both the green genes and silva taxonomy classifiers to find the best fit for your data, as results do differ. For example I have found that for the tick-microbiome analysis using the 27F/338 primer set the green genes gives much better resolution, however in analysis of blood samples using the 515/806 primer set the silva classifier gave better results. Depending on your sequencing platform and level of coverage you should find the classifer that best suits your needs.</div>\n",
    "\n",
    "This tutorial will demonstrate how to train q2-feature-classifier for a particular dataset. We will train the Naive Bayes classifier using Greengenes reference sequences and classify the representative sequences."
   ]
  },
  {
   "cell_type": "markdown",
   "metadata": {},
   "source": [
    "It is recommended you make another file within your `/NGS_analysis` directory"
   ]
  },
  {
   "cell_type": "markdown",
   "metadata": {},
   "source": [
    "mkdir training-feature-classifiers\n",
    "cd training-feature-classifiers"
   ]
  },
  {
   "cell_type": "markdown",
   "metadata": {},
   "source": [
    "Download the Greengenes data set available [here](http://qiime.org/home_static/dataFiles.html).\n",
    "\n",
    "As at Jan 2018 the latest release is the `13_8(most recent)` dataset available."
   ]
  },
  {
   "cell_type": "markdown",
   "metadata": {},
   "source": [
    "This will automatically download. Open the zipped file in your `Finder` or file browser. You will see the following:\n",
    "\n",
    "    - /otus\n",
    "    - /rep_set\n",
    "    - /rep_set_aligned\n",
    "    - /taxonomy\n",
    "    - /trees\n",
    "    - notes\n",
    "\n",
    "Depending on your analysis you may want to use different classifer thresholds, however for this instance we will use 99% datasets. Particularly if you are following the USEARCH pipeline in this analysis where ZOTUs are >97% similar. \n",
    "\n",
    "We recommend copying the relevent files to your current directory. `/training-feature-classifers`. Alternatively you may like to store it in a central file and refer to the full file path when referencing the classifier in the QIIME2 scripts. In theory you should only need to train the classifer once for each set of primers (at each threshold), and therefore you may like to have this ready to train on your new set of sequences.\n",
    "\n",
    "For the sake of this workbook we will assume it is in your current directory.\n",
    "\n",
    "Locate the following files and copy & paste them in your current directory `/training-feature-classifiers`."
   ]
  },
  {
   "cell_type": "markdown",
   "metadata": {},
   "source": [
    "    /taxonomy/99_otu_taxonomy.txt\n",
    "    /rep_set_aligned/99_otus.fasta"
   ]
  },
  {
   "cell_type": "markdown",
   "metadata": {},
   "source": [
    "You will also need to move your sequences.qza file into this directory. We recommend copy & paste this file, to leave the original in the `/7.unoise_all directory` untouched"
   ]
  },
  {
   "cell_type": "markdown",
   "metadata": {},
   "source": [
    "From the terminal in the QIIME environment a listing command should retrive the following"
   ]
  },
  {
   "cell_type": "markdown",
   "metadata": {},
   "source": [
    "    ls"
   ]
  },
  {
   "cell_type": "markdown",
   "metadata": {},
   "source": [
    "    99_otu_taxonomy.txt\n",
    "    99_otus.fasta\n",
    "    sequences.qza"
   ]
  },
  {
   "cell_type": "markdown",
   "metadata": {},
   "source": [
    "Since the Greengenes reference taxonomy file (`85_otu_taxonomy.txt`) is a tab-separated (TSV) file without a header, we must specify `HeaderlessTSVTaxonomyFormat` as the source format since the default *source format* requires a header."
   ]
  },
  {
   "cell_type": "markdown",
   "metadata": {},
   "source": [
    "    qiime tools import \\\n",
    "    --type 'FeatureData[Sequence]' \\\n",
    "    --input-path 99_otus.fasta \\\n",
    "    --output-path 99_otus.qza\n",
    "\n",
    "    qiime tools import \\\n",
    "    --type 'FeatureData[Taxonomy]' \\\n",
    "    --source-format HeaderlessTSVTaxonomyFormat \\\n",
    "    --input-path 99_otu_taxonomy.txt \\\n",
    "    --output-path ref-taxonomy.qza"
   ]
  },
  {
   "cell_type": "markdown",
   "metadata": {},
   "source": [
    "**Output artifacts:**\n",
    "\n",
    "    99_otus.qza\n",
    "    ref-taxonomy.qza"
   ]
  },
  {
   "cell_type": "markdown",
   "metadata": {},
   "source": [
    "# Extract reference reads"
   ]
  },
  {
   "cell_type": "markdown",
   "metadata": {},
   "source": [
    "It has been shown that taxonomic classification accuracy improves when a Naive Bayes classifier is trained on only the region of the target sequences that was sequenced ([Werner et al., 2012](https://www.ncbi.nlm.nih.gov/pubmed/21716311)). "
   ]
  },
  {
   "cell_type": "markdown",
   "metadata": {},
   "source": [
    "For this tutorial we will use the primer set for the V1-2 hypervariable region as outlined by ([Gofton et al., 2015](https://www.ncbi.nlm.nih.gov/pubmed/26108374))"
   ]
  },
  {
   "cell_type": "markdown",
   "metadata": {},
   "source": [
    "    qiime feature-classifier extract-reads \\\n",
    "    --i-sequences 99_otus.qza \\\n",
    "    --p-f-primer AGAGTTTGATCCTGGCTYAG \\\n",
    "    --p-r-primer TGCTGCCTCCCGTAGGAGT \\\n",
    "    --p-trunc-len 350 \\\n",
    "    --o-reads ref-seqs.qza"
   ]
  },
  {
   "cell_type": "markdown",
   "metadata": {},
   "source": [
    "For V3-4 region primer set 515F-806R: ([Caporaso et al. 2011](https://www.ncbi.nlm.nih.gov/pubmed/20534432))"
   ]
  },
  {
   "cell_type": "markdown",
   "metadata": {},
   "source": [
    "    qiime feature-classifier extract-reads \\\n",
    "    --i-sequences 99_otus.qza \\\n",
    "    --p-f-primer GTGBCAGCMGCCGCGGTAA \\\n",
    "    --p-r-primer GGACTACHVGGGTWTCTAAT \\\n",
    "    --p-trunc-len 350 \\\n",
    "    --o-reads ref-seqs.qza"
   ]
  },
  {
   "cell_type": "markdown",
   "metadata": {},
   "source": [
    "**Otuput artifact:**\n",
    "\n",
    "    ref-seqs.qza"
   ]
  },
  {
   "cell_type": "markdown",
   "metadata": {},
   "source": [
    "# Train the classifier"
   ]
  },
  {
   "cell_type": "markdown",
   "metadata": {},
   "source": [
    "We can now train a [Naive Bayes](http://scikit-learn.org/stable/modules/naive_bayes.html#multinomial-naive-bayes) classifier as follows, using the reference reads and taxonomy that we just created."
   ]
  },
  {
   "cell_type": "markdown",
   "metadata": {},
   "source": [
    "    qiime feature-classifier fit-classifier-naive-bayes \\\n",
    "    --i-reference-reads ref-seqs.qza \\\n",
    "    --i-reference-taxonomy ref-taxonomy.qza \\\n",
    "    --o-classifier classifier.qza"
   ]
  },
  {
   "cell_type": "markdown",
   "metadata": {},
   "source": [
    "**Otuput artifact:**\n",
    "\n",
    "    classifier.qza"
   ]
  },
  {
   "cell_type": "markdown",
   "metadata": {},
   "source": [
    "# Test the classifier"
   ]
  },
  {
   "cell_type": "markdown",
   "metadata": {},
   "source": [
    "Finally, we verify that the classifier works by classifying the representative sequences from the Moving Pictures tutorial and visualizing the resulting taxonomic assignments."
   ]
  },
  {
   "cell_type": "markdown",
   "metadata": {},
   "source": [
    "    qiime feature-classifier classify-sklearn \\\n",
    "    --i-classifier classifier.qza \\\n",
    "    --i-reads sequences.qza \\\n",
    "    --o-classification taxonomy.qza\n",
    "\n",
    "    qiime metadata tabulate \\\n",
    "    --m-input-file taxonomy.qza \\\n",
    "    --o-visualization taxonomy.qzv"
   ]
  },
  {
   "cell_type": "markdown",
   "metadata": {},
   "source": [
    "**Output artifacts:**\n",
    "\n",
    "    taxonomy.qza\n",
    "\n",
    "**Output visualizations:**\n",
    "\n",
    "    taxonomy.qzv"
   ]
  },
  {
   "cell_type": "markdown",
   "metadata": {},
   "source": [
    "<div class=\"alert alert-block alert-success\">Question<br></br>\n",
    "\n",
    "Recall that our sequences.qzv visualization allows you to easily BLAST the sequence associated with each feature against the NCBI nt database. Using that visualization and the taxonomy.qzv visualization created here, compare the taxonomic assignments with the taxonomy of the best BLAST hit for a few features. How similar are the assignments? If they’re dissimilar, at what taxonomic level do they begin to differ (e.g., species, genus, family, ...)?</div>"
   ]
  },
  {
   "cell_type": "markdown",
   "metadata": {},
   "source": [
    "Next, we can view the taxonomic composition of our samples with interactive bar plots. Generate those plots with the following command and then open the visualization."
   ]
  },
  {
   "cell_type": "markdown",
   "metadata": {},
   "source": [
    "    qiime taxa barplot \\\n",
    "    --i-table feature-table-1.qza \\\n",
    "    --i-taxonomy taxonomy.qza \\\n",
    "    --m-metadata-file metadata.tsv \\\n",
    "    --o-visualization taxa-bar-plots.qzv"
   ]
  },
  {
   "cell_type": "markdown",
   "metadata": {},
   "source": [
    "***\n",
    "\n",
    "## Combining OTU table and taxonomy table\n",
    "\n",
    "You may encounter some issues when you try to combine your otu tab and taxonomy table.\n",
    "As explained [here](https://drive5.com/usearch/manual/otu_qc_missing.html) there are a number of reasons for this and it may be worth your time going through to investigate why there were missing otus in your table.\n",
    "\n",
    "However here is an easy way to identify the missing otus so you can ensure that your taxonomy table output ('qzv' file from QIIME) matches your otu output ('txt' file from usearch).\n",
    "\n",
    "Find the labels of the missing OTUs and make a FASTA file missing.fa with the sequences. You can do this by cutting the labels out of the OTU table and grepping the labels from the FASTA file with the OTU sequences, then using the Linux uniq command to find labels which appear only in the FASTA file. Finally, use the fastx_getseqs command to extract those sequences. For example,\n",
    "\n",
    "The following needs to be excuted in a Bash environment **NOT** in your QIIME2 environment (remember qiime 2 is a python environment).\n",
    "\n",
    "```bash\n",
    "cut -f1 otutab.txt | grep -v \"^#\" > table_labels.txt\n",
    "grep \"^>\" otus.fa | sed \"-es/>//\" > seq_labels.txt\n",
    "sort seq_labels.txt table_labels.txt table_labels.txt | uniq -u > missing_labels.txt\n",
    "usearch -fastx_getseqs otus.fa -labels missing_labels.txt -fastaout missing.fa\n",
    "```\n",
    "\n",
    "The file `missing_labels.txt` is a print out of all the OTUS that are missing. You can copy and paste this into your OTU table and put zero's against the abundance for all samples. Now your taxonomy and otu table should match."
   ]
  }
 ],
 "metadata": {
  "kernelspec": {
   "display_name": "Python 3",
   "language": "python",
   "name": "python3"
  },
  "language_info": {
   "codemirror_mode": {
    "name": "ipython",
    "version": 3
   },
   "file_extension": ".py",
   "mimetype": "text/x-python",
   "name": "python",
   "nbconvert_exporter": "python",
   "pygments_lexer": "ipython3",
   "version": "3.6.3"
  }
 },
 "nbformat": 4,
 "nbformat_minor": 2
}
