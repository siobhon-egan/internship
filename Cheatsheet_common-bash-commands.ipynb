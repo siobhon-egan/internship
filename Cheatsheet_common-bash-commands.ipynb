{
 "cells": [
  {
   "cell_type": "markdown",
   "metadata": {},
   "source": [
    "# Common bash commands"
   ]
  },
  {
   "cell_type": "markdown",
   "metadata": {},
   "source": [
    "This noteboook is by no means extensive however aims to provide a short reference guide to commonly used and useful Bash/Shell commands.\n",
    "\n",
    "Google is your bestfriend!\n",
    "There are so many resources for this, sometimes it can be overwhelming.\n",
    "\n",
    "[Stack overflow](https://stackoverflow.com/) is a great place to start - their forums are very informative however do require patience to find the find answer."
   ]
  },
  {
   "cell_type": "markdown",
   "metadata": {},
   "source": [
    "Present working directory outputs your current file\n",
    "\n",
    "    pwd\n",
    "\n",
    "Navigate to a file or directory\n",
    "\n",
    "    cd /path/to/directory/or/file\n",
    "\n",
    "Navigate to your home directory\n",
    "\n",
    "    cd ~\n",
    "\n",
    "The directory above is referred to as `..`, to navigate to directory above\n",
    "\n",
    "    cd ..\n",
    "\n",
    "The current directory is referred to as `.`\n"
   ]
  },
  {
   "cell_type": "markdown",
   "metadata": {},
   "source": [
    "**Listing commands**\n",
    "\n",
    "List files in current working directory\n",
    "\n",
    "    ls\n",
    "\n",
    "To include files that start with \".\"\n",
    "\n",
    "    ls -a\n",
    "    \n",
    "Sort files by modification time\n",
    "\n",
    "    ls -t\n",
    "\n",
    "Print sizes of all files in directort\n",
    "\n",
    "    du -a -h"
   ]
  },
  {
   "cell_type": "markdown",
   "metadata": {},
   "source": [
    "**Search history**\n",
    "\n",
    "Search all history\n",
    "\n",
    "    history\n",
    "\n",
    "Use key words to search history\n",
    "\n",
    "    history | grep keyword\n",
    "\n",
    "Search the last commands used e.g. search last 5 commands\n",
    "\n",
    "    history 5\n",
    "\n",
    "You can combine the above two e.g. search the last 50 commands with the keyword usearch\n",
    "\n",
    "    history 50 | grep usearch"
   ]
  },
  {
   "cell_type": "markdown",
   "metadata": {},
   "source": [
    "**Make, copy, move and remove directories/files**\n",
    "\n",
    "Make a new directory\n",
    "\n",
    "    mkdir newdirectory\n",
    "\n",
    "Make a new file\n",
    "\n",
    "    touch newfile.txt\n",
    "\n",
    "Copies files from a specified directory to the current directory\n",
    "\n",
    "    cp /path/to/file .\n",
    "\n",
    "Copies files from current directory"
   ]
  }
 ],
 "metadata": {
  "kernelspec": {
   "display_name": "Bash",
   "language": "bash",
   "name": "bash"
  },
  "language_info": {
   "codemirror_mode": "shell",
   "file_extension": ".sh",
   "mimetype": "text/x-sh",
   "name": "bash"
  }
 },
 "nbformat": 4,
 "nbformat_minor": 2
}
