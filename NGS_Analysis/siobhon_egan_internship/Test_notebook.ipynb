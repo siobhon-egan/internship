{
 "cells": [
  {
   "cell_type": "markdown",
   "metadata": {},
   "source": [
    "# Test scipts"
   ]
  },
  {
   "cell_type": "markdown",
   "metadata": {},
   "source": [
    "Test notebook for python scripts"
   ]
  },
  {
   "cell_type": "code",
   "execution_count": 1,
   "metadata": {},
   "outputs": [
    {
     "name": "stdout",
     "output_type": "stream",
     "text": [
      "/Users/Crypticklab/Jupyterhub_notebooks/siobhon_egan_internship\r\n"
     ]
    }
   ],
   "source": [
    "!pwd"
   ]
  },
  {
   "cell_type": "code",
   "execution_count": 2,
   "metadata": {
    "scrolled": true
   },
   "outputs": [
    {
     "name": "stdout",
     "output_type": "stream",
     "text": [
      "\u001b[31mCT1A55IHF_S67_L001_R1_001.fastq\u001b[m\u001b[m \u001b[31mCT1A59IHF_S1_L001_R2_001.fastq\u001b[m\u001b[m\r\n",
      "\u001b[31mCT1A55IHF_S67_L001_R2_001.fastq\u001b[m\u001b[m Test_notebook.ipynb\r\n",
      "\u001b[31mCT1A59IHF_S1_L001_R1_001.fastq\u001b[m\u001b[m  readme.md\r\n"
     ]
    }
   ],
   "source": [
    "!ls"
   ]
  },
  {
   "cell_type": "code",
   "execution_count": 50,
   "metadata": {
    "collapsed": true
   },
   "outputs": [],
   "source": [
    "def readFastq(filename):\n",
    "    sequences = []\n",
    "    qualities = []\n",
    "    with open(filename) as fh:\n",
    "        while True: \n",
    "            fh.readline()\n",
    "            seq = fh.readline().rstrip()\n",
    "            fh.readline()\n",
    "            qual = fh.readline().rstrip()\n",
    "            if len(seq) == 0:\n",
    "                break\n",
    "            sequences.append(seq)\n",
    "            qualities.append(qual)\n",
    "    return sequences, qualities\n",
    "seqs, quals = readFastq('CT1A55IHF_S67_L001_R1_001.fastq')"
   ]
  },
  {
   "cell_type": "code",
   "execution_count": 33,
   "metadata": {},
   "outputs": [
    {
     "name": "stdout",
     "output_type": "stream",
     "text": [
      "['AGAGTTTGATCCTGGCTTAGAGTGAACGCTGGCGGCGTGCTTAACACATGCAAGTCGAACGGGCAAGCGCTGTAGCTATCCAGCATTCTGCTAGTGGCAGACGGGTGAGTAATACATGGGACTCTACCTTGCCGTGCGCAATACCAGTTGGCAGCCATTGCTAATGTCGCATATCGCCGTGAGGTGAAAGCTTTATCGCTGCCCGTCGAGCCCTTGCCGGCTTCGCTAGTTCGTGGGGTAATGGCTCACC', 'AGAGTTTGATCCTGGCTTAGAGTGAACGCTGGCGGCGTGCTTAACACATGCAAGTCGAACGGCCAAGCGCTGTAGCTTTACATAATTCTGCTAGTGGCAGACGGGTGAGTAATACATGGCAATCTACCTTGCAGTGCGAAATAACAGTTGGCAGCAATTGCTAATCTCGCATATCGCCGAGAGGTGAAAGATTTATCGCTGCCACACGAGCCCATGCAGGATTAGCTAGTTGGTGGGGTAATGGCTCACCA', 'AGAGTTTGATCCTGGCTCAGAGTGAACGCTGGCGGTGTGCTTAACACATGCAAGTCGAACGGGCAAGAGCTGTAGCAATACAGAATTCTGCTAGTGGCAGACGGGTGAGTAATACATGGGAATCTACCTTGCAGTGCGAAATAACAGTTGGAAGCAATTGCTAATGTCGCATATAGCCGAGAGGTGAAAGATTTATCGCTGCAAGACGAGCCCATGCAGGATTAGCTAGTTGGTGGGGTAATGGCTCACCA', 'AGAGTTTGATCCTGGCTCAGAGTGAACGCTGGCGGTGTGCTTAACACATGCAAGTCGAACGGGCAAGAGCTGTAGCAATACAGAATTCTGCTAGTGGCAGACGGGTGAGTAATACATGGGAATCTACCTTGCAGTGCGAAATAACAGTTGGAAGCAATTGCTAATGTCGCATATAGCCGAGAGGTGAAAGATTTATCGCTGCAAGACGAGCCCATGCAGGATTAGCTAGTTGGTGGGGTAATGGCTCACCA', 'AGAGTTTGATCCTGGCTCAGAGTGAACGCTGGCGGTGTGCTTAACACATGCAAGTCGAACGGGCAAGAGCTGTAGCAATACAGAATTCTGCTAGTGGCAGACGGGTGAGTAATACATGGGAATCTACCTTGCAGTGCGAAATAACAGTTGGAAGCAATTGCTAATGTCGCATATAGCCGAGAGGGGAAAGATTTATCGCTGCAAGACGAGCCCATGCAGGATTAGCTAGTTGGTGGGGTAATGGCGCACCA']\n"
     ]
    }
   ],
   "source": [
    "print(seqs[:5])"
   ]
  },
  {
   "cell_type": "markdown",
   "metadata": {},
   "source": [
    "Lengths of the sequences"
   ]
  },
  {
   "cell_type": "code",
   "execution_count": 34,
   "metadata": {},
   "outputs": [
    {
     "name": "stdout",
     "output_type": "stream",
     "text": [
      "38275\n"
     ]
    }
   ],
   "source": [
    "print(len(seqs))"
   ]
  },
  {
   "cell_type": "code",
   "execution_count": null,
   "metadata": {
    "collapsed": true
   },
   "outputs": [],
   "source": [
    "Quality scores of the first two sequences"
   ]
  },
  {
   "cell_type": "code",
   "execution_count": 35,
   "metadata": {
    "scrolled": true
   },
   "outputs": [
    {
     "name": "stdout",
     "output_type": "stream",
     "text": [
      "['1A?AAFFF1FFFGGFGG1FGCFAGHHHHFGCEFGG/AEGE/GEFG1GAGHHE1FGFFCEGGE/>>/>///F/?1@222B0>2100BBFHBFF11<1BC0E/0/?BC//0F2?@211@20/000<1<11<?111/?-<@---<0/000<<0//0<<.:;:0:00;;0<CC.-:.;0:.9;-:...;.0000/;BB;CF;-F-A----:;-9??E-;-;9---9@--9A-9;//-9----9-/99/--//9;', '1AAAAFFFFFFFGGGGG1GGGCEGHHHHFFCEEFG/AEGE/GGGG1GEHHHHHFHFEEFHEE/>>/>/?/?/?1@222B11>221BF2F21111<1<A<//<///B//0121?2>1@200@1@<1FB1<?1111?11<.<-<>1111>D1//<<..<0000000=0;C..::.;0:..9-;--.;.0900/99CBB09.99A-//--9--=;A-;BB//--;B/BBFB/9///9------99/9-BB/B9/']\n"
     ]
    }
   ],
   "source": [
    "print(quals[:2])"
   ]
  },
  {
   "cell_type": "code",
   "execution_count": 25,
   "metadata": {
    "collapsed": true
   },
   "outputs": [],
   "source": [
    "import matplotlib.pyplot as plt"
   ]
  },
  {
   "cell_type": "code",
   "execution_count": 54,
   "metadata": {},
   "outputs": [],
   "source": [
    "def phred33ToQ(qual):\n",
    "    return ord(qual) - 33"
   ]
  },
  {
   "cell_type": "code",
   "execution_count": 55,
   "metadata": {},
   "outputs": [
    {
     "data": {
      "text/plain": [
       "41"
      ]
     },
     "execution_count": 55,
     "metadata": {},
     "output_type": "execute_result"
    }
   ],
   "source": [
    "phred33ToQ('J')"
   ]
  },
  {
   "cell_type": "code",
   "execution_count": 56,
   "metadata": {},
   "outputs": [
    {
     "ename": "TypeError",
     "evalue": "ord() expected a character, but string of length 250 found",
     "output_type": "error",
     "traceback": [
      "\u001b[0;31m---------------------------------------------------------------------------\u001b[0m",
      "\u001b[0;31mTypeError\u001b[0m                                 Traceback (most recent call last)",
      "\u001b[0;32m<ipython-input-56-a13dc2d33b81>\u001b[0m in \u001b[0;36m<module>\u001b[0;34m()\u001b[0m\n\u001b[1;32m      6\u001b[0m             \u001b[0mhist\u001b[0m\u001b[0;34m[\u001b[0m\u001b[0mq\u001b[0m\u001b[0;34m]\u001b[0m \u001b[0;34m+=\u001b[0m \u001b[0;36m1\u001b[0m\u001b[0;34m\u001b[0m\u001b[0m\n\u001b[1;32m      7\u001b[0m     \u001b[0;32mreturn\u001b[0m \u001b[0mhist\u001b[0m\u001b[0;34m\u001b[0m\u001b[0m\n\u001b[0;32m----> 8\u001b[0;31m \u001b[0mh\u001b[0m \u001b[0;34m=\u001b[0m \u001b[0mcreateHist\u001b[0m\u001b[0;34m(\u001b[0m\u001b[0mquals\u001b[0m\u001b[0;34m)\u001b[0m\u001b[0;34m\u001b[0m\u001b[0m\n\u001b[0m\u001b[1;32m      9\u001b[0m \u001b[0mprint\u001b[0m\u001b[0;34m(\u001b[0m\u001b[0mh\u001b[0m\u001b[0;34m)\u001b[0m\u001b[0;34m\u001b[0m\u001b[0m\n",
      "\u001b[0;32m<ipython-input-56-a13dc2d33b81>\u001b[0m in \u001b[0;36mcreateHist\u001b[0;34m(qualities)\u001b[0m\n\u001b[1;32m      3\u001b[0m     \u001b[0;32mfor\u001b[0m \u001b[0mqual\u001b[0m \u001b[0;32min\u001b[0m \u001b[0mqualities\u001b[0m\u001b[0;34m:\u001b[0m\u001b[0;34m\u001b[0m\u001b[0m\n\u001b[1;32m      4\u001b[0m         \u001b[0;32mfor\u001b[0m \u001b[0mphred\u001b[0m \u001b[0;32min\u001b[0m \u001b[0mquals\u001b[0m\u001b[0;34m:\u001b[0m\u001b[0;34m\u001b[0m\u001b[0m\n\u001b[0;32m----> 5\u001b[0;31m             \u001b[0mq\u001b[0m \u001b[0;34m=\u001b[0m \u001b[0mphred33ToQ\u001b[0m\u001b[0;34m(\u001b[0m\u001b[0mphred\u001b[0m\u001b[0;34m)\u001b[0m\u001b[0;34m\u001b[0m\u001b[0m\n\u001b[0m\u001b[1;32m      6\u001b[0m             \u001b[0mhist\u001b[0m\u001b[0;34m[\u001b[0m\u001b[0mq\u001b[0m\u001b[0;34m]\u001b[0m \u001b[0;34m+=\u001b[0m \u001b[0;36m1\u001b[0m\u001b[0;34m\u001b[0m\u001b[0m\n\u001b[1;32m      7\u001b[0m     \u001b[0;32mreturn\u001b[0m \u001b[0mhist\u001b[0m\u001b[0;34m\u001b[0m\u001b[0m\n",
      "\u001b[0;32m<ipython-input-54-698a98a99208>\u001b[0m in \u001b[0;36mphred33ToQ\u001b[0;34m(qual)\u001b[0m\n\u001b[1;32m      1\u001b[0m \u001b[0;32mdef\u001b[0m \u001b[0mphred33ToQ\u001b[0m\u001b[0;34m(\u001b[0m\u001b[0mqual\u001b[0m\u001b[0;34m)\u001b[0m\u001b[0;34m:\u001b[0m\u001b[0;34m\u001b[0m\u001b[0m\n\u001b[0;32m----> 2\u001b[0;31m     \u001b[0;32mreturn\u001b[0m \u001b[0mord\u001b[0m\u001b[0;34m(\u001b[0m\u001b[0mqual\u001b[0m\u001b[0;34m)\u001b[0m \u001b[0;34m-\u001b[0m \u001b[0;36m33\u001b[0m\u001b[0;34m\u001b[0m\u001b[0m\n\u001b[0m",
      "\u001b[0;31mTypeError\u001b[0m: ord() expected a character, but string of length 250 found"
     ]
    }
   ],
   "source": [
    "def createHist(qualities):\n",
    "    hist = [0] * 50\n",
    "    for qual in qualities:\n",
    "        for phred in quals:\n",
    "            q = phred33ToQ(phred)\n",
    "            hist[q] += 1\n",
    "    return hist\n",
    "h = createHist(quals)\n",
    "print(h)"
   ]
  },
  {
   "cell_type": "code",
   "execution_count": 20,
   "metadata": {},
   "outputs": [
    {
     "ename": "NameError",
     "evalue": "name 'h' is not defined",
     "output_type": "error",
     "traceback": [
      "\u001b[0;31m---------------------------------------------------------------------------\u001b[0m",
      "\u001b[0;31mNameError\u001b[0m                                 Traceback (most recent call last)",
      "\u001b[0;32m<ipython-input-20-00ad4318f9fd>\u001b[0m in \u001b[0;36m<module>\u001b[0;34m()\u001b[0m\n\u001b[1;32m      1\u001b[0m \u001b[0mget_ipython\u001b[0m\u001b[0;34m(\u001b[0m\u001b[0;34m)\u001b[0m\u001b[0;34m.\u001b[0m\u001b[0mmagic\u001b[0m\u001b[0;34m(\u001b[0m\u001b[0;34m'matplotlib inline'\u001b[0m\u001b[0;34m)\u001b[0m\u001b[0;34m\u001b[0m\u001b[0m\n\u001b[1;32m      2\u001b[0m \u001b[0;32mimport\u001b[0m \u001b[0mmatplotlib\u001b[0m\u001b[0;34m.\u001b[0m\u001b[0mpyplot\u001b[0m \u001b[0;32mas\u001b[0m \u001b[0mplt\u001b[0m\u001b[0;34m\u001b[0m\u001b[0m\n\u001b[0;32m----> 3\u001b[0;31m \u001b[0mplt\u001b[0m\u001b[0;34m.\u001b[0m\u001b[0mbar\u001b[0m\u001b[0;34m(\u001b[0m\u001b[0mrange\u001b[0m\u001b[0;34m(\u001b[0m\u001b[0mlen\u001b[0m\u001b[0;34m(\u001b[0m\u001b[0mh\u001b[0m\u001b[0;34m)\u001b[0m\u001b[0;34m)\u001b[0m\u001b[0;34m,\u001b[0m \u001b[0mh\u001b[0m\u001b[0;34m)\u001b[0m\u001b[0;34m\u001b[0m\u001b[0m\n\u001b[0m\u001b[1;32m      4\u001b[0m \u001b[0mplt\u001b[0m\u001b[0;34m.\u001b[0m\u001b[0mshow\u001b[0m\u001b[0;34m(\u001b[0m\u001b[0;34m)\u001b[0m\u001b[0;34m\u001b[0m\u001b[0m\n",
      "\u001b[0;31mNameError\u001b[0m: name 'h' is not defined"
     ]
    }
   ],
   "source": [
    "%matplotlib inline\n",
    "import matplotlib.pyplot as plt\n",
    "plt.bar(range(len(h)), h)\n",
    "plt.show()"
   ]
  },
  {
   "cell_type": "code",
   "execution_count": null,
   "metadata": {
    "collapsed": true
   },
   "outputs": [],
   "source": []
  }
 ],
 "metadata": {
  "kernelspec": {
   "display_name": "Python 3",
   "language": "python",
   "name": "python3"
  },
  "language_info": {
   "codemirror_mode": {
    "name": "ipython",
    "version": 3
   },
   "file_extension": ".py",
   "mimetype": "text/x-python",
   "name": "python",
   "nbconvert_exporter": "python",
   "pygments_lexer": "ipython3",
   "version": "3.6.3"
  }
 },
 "nbformat": 4,
 "nbformat_minor": 2
}
