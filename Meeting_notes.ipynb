{
 "cells": [
  {
   "cell_type": "markdown",
   "metadata": {},
   "source": [
    "# Pawsey Internship"
   ]
  },
  {
   "cell_type": "markdown",
   "metadata": {},
   "source": [
    "*** Internship period 27 Nov - 15 Feb***"
   ]
  },
  {
   "cell_type": "markdown",
   "metadata": {},
   "source": [
    "***"
   ]
  },
  {
   "cell_type": "markdown",
   "metadata": {},
   "source": [
    "### Important dates"
   ]
  },
  {
   "cell_type": "markdown",
   "metadata": {},
   "source": [
    "[✓] **Wednesday Dec 12 (10:30-11:30am)** Morning Tea: theme - tell us what you're working on in 60 seconds hosted @ Pawsey"
   ]
  },
  {
   "cell_type": "markdown",
   "metadata": {},
   "source": [
    "[✓] **Monday Jan 8** Presentation training with Aditi Subramanya hosted @ Pawsey"
   ]
  },
  {
   "cell_type": "markdown",
   "metadata": {},
   "source": [
    "**Friday Feb 10** Poster due (digital)"
   ]
  },
  {
   "cell_type": "markdown",
   "metadata": {},
   "source": [
    "**Friday Feb 16** Final Report due - End of internship"
   ]
  },
  {
   "cell_type": "markdown",
   "metadata": {},
   "source": [
    "**Friday Feb 23** Pawsey Friday Talk and Poster session @ Pawsey [supervisors encouraged to attend, will include special guest speaker]"
   ]
  },
  {
   "cell_type": "markdown",
   "metadata": {},
   "source": [
    "***"
   ]
  },
  {
   "cell_type": "markdown",
   "metadata": {},
   "source": [
    "## Outline"
   ]
  },
  {
   "cell_type": "markdown",
   "metadata": {},
   "source": [
    "[✓] **Week 1** - Pawsey workshops"
   ]
  },
  {
   "cell_type": "markdown",
   "metadata": {},
   "source": [
    "[✓] **Week 2** - Compile datasets and metadata week"
   ]
  },
  {
   "cell_type": "markdown",
   "metadata": {},
   "source": [
    "[✓] **Week 3** - Script writing to assign OTUs"
   ]
  },
  {
   "cell_type": "markdown",
   "metadata": {},
   "source": [
    "[✓] **Week 4** - Preliminary data anlysis "
   ]
  },
  {
   "cell_type": "markdown",
   "metadata": {},
   "source": [
    "**Week 5** - Script writing to assess diversity"
   ]
  },
  {
   "cell_type": "markdown",
   "metadata": {},
   "source": [
    "**Week 6** - Script writing to uncover patterns in diversity"
   ]
  },
  {
   "cell_type": "markdown",
   "metadata": {},
   "source": [
    "**Week 7** - Data visualization Week"
   ]
  },
  {
   "cell_type": "markdown",
   "metadata": {},
   "source": [
    "**Week 8** - Data visualisation and recommendations for future NGS work depending on findings of diversity analysis"
   ]
  },
  {
   "cell_type": "markdown",
   "metadata": {},
   "source": [
    "**Week 9** - Designing a protocol for future NGS data analysis"
   ]
  },
  {
   "cell_type": "markdown",
   "metadata": {},
   "source": [
    "**Week 10** - Finalisation of protocols and data visualisation techqniues"
   ]
  },
  {
   "cell_type": "markdown",
   "metadata": {},
   "source": [
    "---"
   ]
  },
  {
   "cell_type": "markdown",
   "metadata": {
    "collapsed": true
   },
   "source": [
    "### Meeting 05/12/2017\n",
    "- How to bioinformatically subtract EXB and NTC samples - need information on runs, can this be done together?\n",
    "    *Will need further detail to align samples with relevent NTCs in order to subtract 'environment' reads\n",
    "- Use of python notebook to collate information  ability to produce graphs inside script\n",
    "    *Make git hub account for Cryptick lab and install anaconda app to be able to access jupyter hub/Rstudio in the one workbook\n",
    "- Use of qiime 2 - updates to iMac needed\n",
    "    *Make relevent upgrades to iMac including downloading new virtual box (iMac needs general clean up)\n",
    "- Use of usearch? (vs freely available ones e.g. vsearch)\n",
    "    *usearch may not be available on mangus, may need to run pipeline on Nimbus VM (will make contact with Mark)"
   ]
  },
  {
   "cell_type": "markdown",
   "metadata": {},
   "source": [
    "### Update 8/01/2018"
   ]
  },
  {
   "cell_type": "markdown",
   "metadata": {},
   "source": [
    "- Set up github and anaconda/jupyter notebook on iMac\n",
    "- Set up QIIME2 on iMac - can **run natively instead of through virtual box** (YAY!), so no need to update virtual box in iMac and therefore no need to interfere with any current analysis\n",
    "- Continue with use of USEARCH, however if need to move to open source, new QIIME2 pipeline can easily be implemented as now run natively through terminal\n",
    "- Testing different curated datasets found that Greengenes gives much clearer resolution for our datasets so will continue with that, in addition to BLAST\n",
    "- Have worked to merge scripts written by both Teash and Alex, to ensure that as many parameters are accounted for while still ensuring the script is practical and easy to follow - once users become more adapt in bioinformatic analysis they may want to include more parameters they feel are needed (e.g. correcting cross-talk, effect of Phix filtering & primer trimming at various stages)\n",
    "- Working to optimse script to run on a small volume storage (i.e currently 500MB raw data = 20+GB of data), this will improve available space on hard drive/computers when run locally. In addition pawsey has a limit on the volume storage available to researchers, so need to work within their contraints also\n",
    "- Exploring impact of quality filtering and other factors in the inital pipeline and comparing it to a 'standard dataset', also working on how best to group the data to filter similar quality sequences with same parameters (balance between robust analysis and ease of methodology)\n",
    "- Continuing documenting steps, which will end up in a collection of easy-to-follow instructions to conduct 16S amplicon analysis from raw reads to final figures and graphs"
   ]
  }
 ],
 "metadata": {
  "kernelspec": {
   "display_name": "Python 3",
   "language": "python",
   "name": "python3"
  },
  "language_info": {
   "codemirror_mode": {
    "name": "ipython",
    "version": 3
   },
   "file_extension": ".py",
   "mimetype": "text/x-python",
   "name": "python",
   "nbconvert_exporter": "python",
   "pygments_lexer": "ipython3",
   "version": "3.6.3"
  }
 },
 "nbformat": 4,
 "nbformat_minor": 2
}
