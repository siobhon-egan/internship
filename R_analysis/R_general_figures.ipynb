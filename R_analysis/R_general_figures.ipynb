{
 "cells": [
  {
   "cell_type": "markdown",
   "metadata": {},
   "source": [
    "# Stacked bar chart"
   ]
  },
  {
   "cell_type": "markdown",
   "metadata": {},
   "source": [
    "**Load libraries**\n",
    "\n",
    "I like to load a these libraries as a starting point for making figures\n",
    "\n",
    "```\n",
    "library(ggplot2)\n",
    "library(Rmisc)\n",
    "library(dplyr)\n",
    "library(tidyverse)\n",
    "library(RColorBrewer)\n",
    "library(forcats)\n",
    "```"
   ]
  },
  {
   "cell_type": "markdown",
   "metadata": {},
   "source": [
    "Clearing current variables is also a good idea, so you can clearly see what you are loading in, however you may like to omit this step.\n",
    "    \n",
    "    rm(list=ls())"
   ]
  },
  {
   "cell_type": "markdown",
   "metadata": {},
   "source": [
    "** Import data**\n",
    "\n",
    "Set your working directory and import your data set.\n",
    "In R studio this can be done using their GUI as well, however I like to include it in the script as it helps you keep track of what datasets the figures you have produced are for.\n",
    "Take note that you will need to alter the path and file name to you. Also note the format of the file. I generally find that csv files are easier to work with in R. If you have a lot of related-metadata sets you may need to consider setting up and SQL database, if your feeling brave follow a tutorial [here](http://swcarpentry.github.io/sql-novice-survey/)\n",
    "\n",
    "    setwd(\"~/Documents/HonoursProject/Data\")\n",
    "    data <- read.csv(\"tick_metadata.csv\")\n",
    "    \n",
    "Check and view your data using these\n",
    "\n",
    "    str(data)\n",
    "    View(data)"
   ]
  },
  {
   "cell_type": "markdown",
   "metadata": {},
   "source": [
    "**Constructing figure**\n",
    "Now you can start constructing your plot - note the variables used will need to reflect your data set - I know it may sound simple but remember the golden rule <font color=orange>variables = columns, observations = rows.</font>\n",
    "\n",
    "    g <- ggplot(data = data, aes(Host))\n",
    "    g + geom_bar(aes(weight = Sum, fill = GenusSpecies))\n",
    "    \n",
    "Reverse orientation of chart\n",
    "\n",
    "    g1 <- g + geom_bar(aes(weight = Sum, fill = GenusSpecies), position =    position_stack(reverse = TRUE)) + coord_flip() + theme(legend.position = \"top\")\n",
    "    g1\n",
    "\n",
    "Order the x axis from largest to smallest\n",
    "\n",
    "    g2 <- g1 + aes(fct_infreq(factor(Host)))\n",
    "    g2\n",
    "\n",
    "Changing axis size, font and labels\n",
    "    \n",
    "    g3 <- g2 + theme(axis.text.x=element_text(size=12),\n",
    "                 axis.title.x=element_text(size=14),\n",
    "                 axis.title.y=element_text(size=14),\n",
    "                 axis.text.y=element_text(size=12),\n",
    "                 strip.text.x=element_text(size=10,face=\"italic\"))\n",
    "    g3\n",
    "    g4 <- g3 + xlab (\"Bandicoot host\") + ylab (\"No. of ticks\")\n",
    "    g4\n",
    "\n",
    "Changing legend font and labels\n",
    "\n",
    "    g5 <- g4 + theme(legend.text=element_text(size=12),\n",
    "                  legend.title=element_text(size=14))\n",
    "    g5\n",
    "    g6 <- g5 + guides(fill=guide_legend(title=\"Tick species\"))\n",
    "    g6\n",
    "    g7 <- g6 + theme(legend.text = element_text(face = \"italic\"))\n",
    "    g7\n",
    "\n",
    "Customise the yaxis min and max values (you can do the same for x axis if it is a continuous variable)\n",
    "\n",
    "    g8 <- g7 + ylim(0,145)\n",
    "    g8\n",
    "\n",
    "Save a the plot - this will save it in the current working directory\n",
    "\n",
    "    print(g8)\n",
    "    pdf(\"g7.pdf\")"
   ]
  },
  {
   "cell_type": "markdown",
   "metadata": {},
   "source": [
    "***"
   ]
  }
 ],
 "metadata": {
  "kernelspec": {
   "display_name": "R",
   "language": "R",
   "name": "ir"
  },
  "language_info": {
   "codemirror_mode": "r",
   "file_extension": ".r",
   "mimetype": "text/x-r-source",
   "name": "R",
   "pygments_lexer": "r",
   "version": "3.4.2"
  }
 },
 "nbformat": 4,
 "nbformat_minor": 2
}
