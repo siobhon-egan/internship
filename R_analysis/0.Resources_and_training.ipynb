{
 "cells": [
  {
   "cell_type": "markdown",
   "metadata": {},
   "source": [
    "# R Training"
   ]
  },
  {
   "cell_type": "markdown",
   "metadata": {},
   "source": [
    "<img style=\"float: left;\" src=\"Rlogo.png\">"
   ]
  },
  {
   "cell_type": "markdown",
   "metadata": {},
   "source": [
    "There are a number of fantastic resources available for R.\n",
    "Whilst some can be long and perhaps not relevent to your topic we have tried to list tutorials and resources that are relevent for biological and ecological analysis.\n",
    "\n",
    "- Software carpentry\n",
    "    - [Programming with R](http://swcarpentry.github.io/python-novice-inflammation/)\n",
    "    - [R for Reproducible Scientific Analysis](http://swcarpentry.github.io/r-novice-gapminder/)\n",
    "- Data carpentry\n",
    "    - [Ecology workshop](http://www.datacarpentry.org/lessons/#ecology-workshop)\n",
    "    - [Genomics workshop](http://www.datacarpentry.org/lessons/#genomics-workshop)\n",
    "    - [Introduction to R for genomics](http://www.datacarpentry.org/R-genomics/01-intro-to-R.html)\n",
    "\n",
    "<font color=orange>**A word of caution if attemping the genomics workshop.** <br></br>\n",
    "\n",
    "Some of the workshops will not be applicable and require an amazon subscription. <br></br>\n",
    "I would recommend skipping the Introduction to cloud computing for genomics workshop</font>\n",
    "\n",
    "These workflows are very easily to follow and have fantastic detailed instructions.\n",
    "Make sure you read the set-up requirements before attempting the workshop to ensure you have all the requirements installed first.\n",
    "\n",
    "There is some overlap in the above modules however can be taken at your own pace, as needed.\n"
   ]
  },
  {
   "cell_type": "markdown",
   "metadata": {},
   "source": [
    "***"
   ]
  },
  {
   "cell_type": "markdown",
   "metadata": {},
   "source": [
    "### R Cheatsheets"
   ]
  },
  {
   "cell_type": "markdown",
   "metadata": {
    "collapsed": true
   },
   "source": [
    "There are a number of cheatsheets and other reference documenation available for R.\n",
    "\n",
    "A link to the offical R cheat sheets is [here](https://www.rstudio.com/resources/cheatsheets/).\n",
    "\n",
    "Other useful cheatsheets by DataCamp are available [here](https://www.datacamp.com/community/data-science-cheatsheets).\n",
    "\n",
    "Links to other useful resources availbale [here](http://www.datasciencefree.com/cheatsheets.html), [here](https://r-dir.com/reference/crib-sheets.html), [here](https://www.analyticsvidhya.com/blog/2017/02/top-28-cheat-sheets-for-machine-learning-data-science-probability-sql-big-data/) and [here](https://sites.google.com/site/rdatamining/docs/R-refcard-data-mining.pdf?attredirects=0)"
   ]
  },
  {
   "cell_type": "markdown",
   "metadata": {},
   "source": [
    "****"
   ]
  },
  {
   "cell_type": "markdown",
   "metadata": {},
   "source": [
    "### Just _some_ other useful resources"
   ]
  },
  {
   "cell_type": "markdown",
   "metadata": {},
   "source": [
    "- [Swirl](http://swirlstats.com/) is a great interactive tutorials that run directly in R. Useful for statistical analysis and basic functions.\n",
    "- [R Tutorial](http://www.r-tutor.com/r-introduction) offers here a couple of introductory tutorials on basic R concepts.\n",
    "- [Code School](http://tryr.codeschool.com/) provides some more tutorials on basic R syntax and basics.\n",
    "- [Quick-R](https://www.statmethods.net/r-tutorial/index.html) is great for tutorials on statistical analysis."
   ]
  },
  {
   "cell_type": "markdown",
   "metadata": {},
   "source": [
    "***\n",
    "### A few useful commands to get you started\n",
    "\n",
    "Ask for help on any commands\n",
    "\n",
    "    ?\"topic\"\n",
    "    \n",
    "Show objects in the search path\n",
    "\n",
    "    ls\n",
    "\n",
    "Load add-on packages\n",
    "\n",
    "    library\n",
    "Find working directory\n",
    "\n",
    "    getwd()\n",
    "Set the working directory\n",
    "\n",
    "    setwd(\"/Users/Document/Data_Files\")\n",
    "    \n",
    "Read a csv file, and tell it that the first row are headers, _note_ you need to be in the working directory of the file unless you include the full path name\n",
    "\n",
    "    read.csv(\"filename\", header=TRUE)\n",
    "\n",
    "Get the class of the file, this can be important when using packages as file formats are often sensitive to change\n",
    "    \n",
    "    class(data_set)\n",
    "\n",
    "Basic commands to view your data and quick insights\n",
    "\n",
    "```\n",
    "View(data_set)\n",
    "str(data_set)\n",
    "mean(data_set$variable)\n",
    "summary(data_set)\n",
    "summary(data_set$variable)\n",
    "```"
   ]
  },
  {
   "cell_type": "markdown",
   "metadata": {},
   "source": [
    "Waring messages are okay, but error messages are not\n",
    "\n",
    "    library(\"tidyverse\")\n",
    "\n",
    "\n",
    ">── Attaching packages ───────────────────────────────── tidyverse 1.2.1 ──<br>\n",
    "✔ ggplot2 2.2.1     ✔ purrr   0.2.4 <br>\n",
    "✔ tibble  1.3.4     ✔ dplyr   0.7.4<br>\n",
    "✔ tidyr   0.7.2     ✔ stringr 1.2.0<br>\n",
    "✔ readr   1.1.1     ✔ forcats 0.2.0<br>\n",
    "── Conflicts ──────────────────────────────────── tidyverse_conflicts() ──<br>\n",
    "✖ dplyr::filter() masks stats::filter()<br>\n",
    "✖ dplyr::lag()    masks stats::lag()<br>\n",
    "Warning messages:<br>\n",
    "1: package ‘tidyverse’ was built under R version 3.4.2 <br>\n",
    "2: package ‘tidyr’ was built under R version 3.4.2 <br>\n",
    "3: package ‘purrr’ was built under R version 3.4.2 <br>\n",
    "4: package ‘dplyr’ was built under R version 3.4.2\n"
   ]
  }
 ],
 "metadata": {
  "kernelspec": {
   "display_name": "R",
   "language": "R",
   "name": "ir"
  },
  "language_info": {
   "codemirror_mode": "r",
   "file_extension": ".r",
   "mimetype": "text/x-r-source",
   "name": "R",
   "pygments_lexer": "r",
   "version": "3.4.2"
  }
 },
 "nbformat": 4,
 "nbformat_minor": 2
}
